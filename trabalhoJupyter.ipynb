{
 "cells": [
  {
   "cell_type": "markdown",
   "metadata": {},
   "source": [
    "# Controle Digital\n",
    "\n",
    "## 2ª Etapa do Trabalho Técnico (experimental)\n",
    "\n",
    "### Lucas Jorjan (18150279)"
   ]
  },
  {
   "cell_type": "markdown",
   "metadata": {},
   "source": [
    "## Fase 2 - Finalizando a montagem do trabalho experimental\n",
    "\n",
    "Na imagem a seguir é apresentado a montagem do circuito:\n",
    "\n",
    "![](montagemCircuito.jpeg)\n",
    "\n",
    "Para o cálculo de velocidade de rotação do motor será utilizado um encoder com auxílio de um disco de 26mm com 20 furos. O enconder é um dispositivo eletromecânico que reproduz pulsos através da rotação de seu eixo. Eles são utilizados para conversão de movimentos rotativos em impulsos elétricos de onda quadrada. Este sinal é então lido pelo Arduino em uma das portas de entrada através de uma interrupção. Os pulsos então após serem lidos geram uma onda quadrada em uma determinada frequência que após os cálculos serão convertidos em velocidade. "
   ]
  },
  {
   "cell_type": "markdown",
   "metadata": {},
   "source": [
    "## Fase 3 - Realizando ensaios sobre o sistema\n",
    "\n",
    "<ol>\n",
    "<li>Obter a relação estática K do sistema;</li>\n",
    "<li>obter a saída transitória de velocidade, a partir de uma onde quadrada de tensão.</li>\n",
    "</ol>\n",
    "\n",
    "Abaixo é apresentado o código em python que faz a comunicação serial com o arduino para gravar os dados de tensão e veocidade em um txt. Em seguida outro código no octave foi elaborado para fazer o plot ilustrado na figura abaixo."
   ]
  },
  {
   "cell_type": "markdown",
   "metadata": {},
   "source": [
    "```python\n",
    "\n",
    "import serial\n",
    "import sys\n",
    "import time\n",
    "\n",
    "ucontr = 'Arduino'\n",
    "base_porta = '/dev/ttyUSB'\n",
    "taxa = 115200\n",
    "tempo = 500  #Timeout da conexao\n",
    "\n",
    "\n",
    "#########################################################################\n",
    "def procura_serial(porta, taxa, tempo):\n",
    "    s = None\n",
    "    for i in range(32):\n",
    "        try:\n",
    "            s = serial.Serial(porta + str(i), taxa, timeout=tempo)\n",
    "        except serial.SerialException:\n",
    "            continue\n",
    "        else:\n",
    "            break\n",
    "    return s\n",
    "\n",
    "#########################################################################\n",
    "def sair(obj_serial):\n",
    "    obj_serial.close()\n",
    "    exit()\n",
    "\n",
    "#########################################################################\n",
    "def _data():\n",
    "    return time.strftime('%d/%m/%Y %H:%M:%S')\n",
    "\n",
    "#########################################################################\n",
    "def amostragem(obj_serial, num):\n",
    "    amostras = []\n",
    "    try:\n",
    "        for i in range(num):\n",
    "            amostras.append(str(obj_serial.readline().rstrip(), 'utf8'))\n",
    "    except KeyboardInterrupt:\n",
    "        pass\n",
    "    \n",
    "    return amostras\n",
    "\n",
    "#########################################################################\n",
    "\n",
    "if __name__ == '__main__':\n",
    "    s = procura_serial(base_porta, taxa, tempo)\n",
    "\n",
    "    if not s:\n",
    "        print('Impossível encontrar %s...' % ucontr)\n",
    "        exit()\n",
    "    else:\n",
    "        print(ucontr + 'na porta' + str(s.port))\n",
    "\n",
    "\n",
    "    arg = sys.argv[1:]\n",
    "\n",
    "    arquivo = ''\n",
    "    if len(arg) == 2:\n",
    "        arquivo = arg[-1]\n",
    "\n",
    "    if arg:\n",
    "        arg = arg[0]\n",
    "    else:\n",
    "        print('Colocar número de amostras como argumento...')\n",
    "        sair(s)\n",
    "\n",
    "    try:\n",
    "        leituras = int(arg)\n",
    "        if leituras == 0:\n",
    "            leituras = 2**64    #leitura 'infinita'\n",
    "    except ValueError:\n",
    "        print('Colocar número válido como argumento...')\n",
    "        sair(s)\n",
    "\n",
    "\n",
    "    print('Amostragem iniciada em ' + _data())\n",
    "\n",
    "    amostras = amostragem(s, leituras)\n",
    "\n",
    "    print('Amostragem terminada em ' + _data())\n",
    "\n",
    "    if arquivo:\n",
    "        open(arquivo, 'w').write(str(amostras))\n",
    "        print(str(len(amostras)) + ' pontos salvos em ' + arquivo)\n",
    "\n",
    "    sair(s)\n",
    "```"
   ]
  },
  {
   "cell_type": "code",
   "execution_count": 29,
   "metadata": {},
   "outputs": [
    {
     "data": {
      "image/png": "[encoded data removed]",
      "text/plain": [
       "<IPython.core.display.Image object>"
      ]
     },
     "metadata": {},
     "output_type": "display_data"
    }
   ],
   "source": [
    "filename = \"comunica.txt\";\n",
    "separator = ' ';\n",
    "skipped_rows = 0;\n",
    "skipped_columns = 0;\n",
    "m = dlmread(filename, separator, skipped_rows, skipped_columns);\n",
    "t = m(:,1);\n",
    "eta_ = m(:, 2);\n",
    "plot(t, eta_)\n",
    "title('Tensao X Velocidade');\n",
    "xlabel (\"Tensao [V]\");\n",
    "ylabel (\"Velocidade [RPM]\");"
   ]
  },
  {
   "cell_type": "markdown",
   "metadata": {},
   "source": [
    "![](graf1.png)"
   ]
  },
  {
   "cell_type": "markdown",
   "metadata": {},
   "source": [
    "Escolhendo dois pontos da curva acima, a qual teoricamente deveria ser uma reta, é calculado o coeficiente angular (relação estática)\n",
    "\n",
    "$$k = tan^-1((4.24 - 4.20)/(206-204))= 1.146$$\n",
    "\n",
    "A seguir é apresentado o plotter serial da IDE do Arduino, onde foi colocado uma entrada em degrau de 1.96V e comparado com a velocidade medida pelo enconder."
   ]
  },
  {
   "cell_type": "markdown",
   "metadata": {},
   "source": [
    "![](graficoOndaQuadrada.png)"
   ]
  },
  {
   "cell_type": "markdown",
   "metadata": {},
   "source": [
    "## Fase 4 - Projeto de Controle Digital\n",
    "\n",
    "Foi escolhido um sistema de 1º ordem que se aproxima ao comportamente da curva, que tem caracteristicas de um\n",
    "sistema 2º ordem sobreamortecido.\n",
    "\n",
    "O sistema sobreamortecido com o $\\zeta$ elevado se assemelha a de 1º ordem, validando assim a aproximação apesar dos picos de velocidade que ocorre esporadicamente. \n",
    "\n",
    "Para 1.96V, que é a tensão empregada no gráfico acima, o valor de RPM tende a estabilizar em 199 RPM como mostra a figura a seguir.\n",
    "\n",
    "![](valorEstabilizado.png)\n",
    "\n",
    "A constante de tempo ($\\tau$) é o intervalo de tempo para que a resposta ao degrau unitário atinja 63,2% de seu valor final. O valor do tempo para achar $\\tau$:\n",
    "\n",
    "$$valorTempoTau= 199*0.632= 123.977$$\n",
    "\n",
    "Como o valor muda bruscamente foi estimado um tempo de 0.60 segundos para $\\tau$."
   ]
  },
  {
   "cell_type": "markdown",
   "metadata": {},
   "source": [
    "O motor de corrente contínua usado para realização dos testes pode ser modelado como um sistema de primeira ordem\n",
    "do tipo:\n",
    "\n",
    "$$ G(s) ≈ \\frac{k}{\\tau*s + 1}$$\n",
    "\n",
    "Substituindo os valores de $\\tau$,L e k a equação do sistema é apresentado a seguir:\n",
    "\n",
    "$$\\frac{1.146}{0.60*s+1}$$"
   ]
  },
  {
   "cell_type": "markdown",
   "metadata": {},
   "source": [
    "### Resposta ao degrau do modelo proposto"
   ]
  },
  {
   "cell_type": "code",
   "execution_count": 35,
   "metadata": {},
   "outputs": [
    {
     "name": "stdout",
     "output_type": "stream",
     "text": [
      "\r\n",
      "Transfer function 'malha_fechada' from input 'u1' to output ...\r\n",
      "\r\n",
      "          1.146    \r\n",
      " y1:  -------------\r\n",
      "      0.6 s + 2.146\r\n",
      "\r\n",
      "Continuous-time model.\r\n"
     ]
    },
    {
     "data": {
      "image/png": "[encoded data removed]",
      "text/plain": [
       "<IPython.core.display.Image object>"
      ]
     },
     "metadata": {},
     "output_type": "display_data"
    }
   ],
   "source": [
    "pkg load symbolic;\n",
    "pkg load control;\n",
    "syms s kp;\n",
    "\n",
    "s = tf ('s');\n",
    "v_entrada = 1.96; #tensão de entrada= 1.96 V\n",
    "k = 1.146;\n",
    "tau=0.60;\n",
    "f_tf = k/(s*tau+1);\n",
    "step(f_tf*v_entrada) # degrau de 1.96\n",
    "malha_fechada = feedback(f_tf)"
   ]
  },
  {
   "cell_type": "markdown",
   "metadata": {},
   "source": [
    "### Requisitos do sistema\n",
    "\n",
    "<ol>\n",
    "<li>0.02 < Ta < 0.8;</li>\n",
    "<li>PSS < 15%;</li>\n",
    "<li> 0.5 <= $\\zeta$ <= 0.75;</li>\n",
    "<li>Ts < Ta/10 de forma que tenha pelo menos 10 pontos.</li>  \n",
    "</ol>"
   ]
  },
  {
   "cell_type": "markdown",
   "metadata": {},
   "source": [
    "### Controlador PID\n",
    "O controlador PID apresenta o seguinte formato matemático:\n",
    "\n",
    "$ Gc(s) = Kp + Kd*s + Ki/s$\n",
    "\n",
    "### O tempo de acomodação:\n",
    "       \n",
    "              Em malha aberta a planta é:\n",
    "$$\\frac{kp}{\\tau*s+1}$$\n",
    "\n",
    "              Em malha fechada na sua forma padrão é:\n",
    "$$\\frac{\\frac{kp}{kp+1}}{\\frac{\\tau}{kp+1}*s + 1}$$\n",
    "\n",
    "Para Ta = 0.8\n",
    "\n",
    "$$\\zeta*wn= \\frac{4}{0.8}$$\n",
    "\n",
    "Onde $\\zeta*wn$ será utilizado para verificar um ponto no lugar das raízes entre 5 e 200 no eixo real. Para $\\zeta$ entre 0.5 e 0.75 os ângulos no lugar das raizes serão 41.40° e 60°.\n",
    "\n",
    "O ponto escolhido no lugar das raízes de acordo com os requisitos foi 15 + 15j, posteriormente foi escolhendo dois zeros complexos conjugados. É encontrado a posição dos zeros através da condição de ângulo tal que o Lugar das Raízes passe pelo ponto escolhido. Fazendo os cálculos para os zeros:\n",
    "\n",
    "$$ Fab = arctg((15 + b)/(-15 + a)) + arctg((15 - b)/(-15+a)) = 91.97°   $$\n",
    "\n",
    "Assumindo a=100 o valor de b será 81i. Por fim, o controlador PID será igual a:\n",
    "\n",
    "$$CPID(s)= \\frac{0.25*(s^2 + 2*(100)*s + 100^2 + (84i)^2)}{(s*((1/1000)*s +1))}$$\n",
    "\n",
    "Onde k= 0.25 para o posicionamento no ponto escolhido."
   ]
  },
  {
   "cell_type": "markdown",
   "metadata": {},
   "source": [
    "### Resposta ao degrau de malha fechada com o controlador PID:"
   ]
  },
  {
   "cell_type": "code",
   "execution_count": 83,
   "metadata": {},
   "outputs": [
    {
     "name": "stdout",
     "output_type": "stream",
     "text": [
      "\r\n",
      "Transfer function 'fMalhaFechada' from input 'u1' to output ...\r\n",
      "\r\n",
      "            0.2865 s^2 + 57.3 s + 843.5       \r\n",
      " y1:  ----------------------------------------\r\n",
      "      0.0006 s^3 + 0.8875 s^2 + 58.3 s + 843.5\r\n",
      "\r\n",
      "Continuous-time model.\r\n"
     ]
    },
    {
     "data": {
      "image/png": "[encoded data removed]",
      "text/plain": [
       "<IPython.core.display.Image object>"
      ]
     },
     "metadata": {},
     "output_type": "display_data"
    }
   ],
   "source": [
    "pkg load symbolic;\n",
    "pkg load control;\n",
    "s = tf ('s');\n",
    "k = 1.146;\n",
    "tau=0.60;\n",
    "f_tf = k/(s*tau+1);\n",
    "C_s = 0.25*(s^2 + 2*(100)*s + 100^2 + (84i)^2) / (s*((1/1000)*s +1));\n",
    "f_com_C_s = f_tf*C_s;\n",
    "fMalhaFechada=feedback(f_com_C_s)\n",
    "step(fMalhaFechada)"
   ]
  },
  {
   "cell_type": "markdown",
   "metadata": {},
   "source": [
    "\n",
    "O gráfico do PID cumpre com os requisitos propostos, visto que seu PSS não ultrapassa 15% e seu tempo de acomodação acontece antes de 0.8 segundos."
   ]
  },
  {
   "cell_type": "markdown",
   "metadata": {},
   "source": [
    "### Transformação por ZOH:"
   ]
  },
  {
   "cell_type": "code",
   "execution_count": 87,
   "metadata": {},
   "outputs": [
    {
     "name": "stdout",
     "output_type": "stream",
     "text": [
      "\r\n",
      "Transfer function 'Fdigital' from input 'u1' to output ...\r\n",
      "\r\n",
      "           1.069 z^2 - 0.2727 z + 0.001309     \r\n",
      " y1:  -----------------------------------------\r\n",
      "      z^3 - 0.2064 z^2 + 0.004285 z - 3.797e-19\r\n",
      "\r\n",
      "Sampling time: 0.08 s\r\n",
      "Discrete-time model.\r\n"
     ]
    }
   ],
   "source": [
    "pkg load symbolic;\n",
    "pkg load control;s = tf ('s');\n",
    "k = 1.146;\n",
    "tau=0.60;\n",
    "f_tf = k/(s*tau+1);\n",
    "C_s = 0.25*(s^2 + 2*(100)*s + 100^2 + (84i)^2) / (s*((1/1000)*s +1));\n",
    "f_com_C_s = f_tf*C_s;\n",
    "fMalhaFechada=feedback(f_com_C_s);\n",
    "Fdigital = c2d(fMalhaFechada,0.08,'zoh')"
   ]
  },
  {
   "cell_type": "markdown",
   "metadata": {},
   "source": [
    "### Controlador deadbeat"
   ]
  },
  {
   "cell_type": "markdown",
   "metadata": {},
   "source": [
    "Foi projetado um controlador deadbeat com dois passos e tempo de amostragem 0.8 segundos. Para este tempo de amostragem, a planta discretizada com ZOH é apresentada abaixo:"
   ]
  },
  {
   "cell_type": "code",
   "execution_count": 93,
   "metadata": {},
   "outputs": [
    {
     "name": "stdout",
     "output_type": "stream",
     "text": [
      "\r\n",
      "Transfer function 'FdigitalMalhaAberta' from input 'u1' to output ...\r\n",
      "\r\n",
      "        0.1431  \r\n",
      " y1:  ----------\r\n",
      "      z - 0.8752\r\n",
      "\r\n",
      "Sampling time: 0.08 s\r\n",
      "Discrete-time model.\r\n"
     ]
    }
   ],
   "source": [
    "k = 1.146;\n",
    "tau=0.60;\n",
    "f_tf = k/(s*tau+1);\n",
    "FdigitalMalhaAberta = c2d(f_tf,0.08,'zoh')"
   ]
  },
  {
   "cell_type": "markdown",
   "metadata": {},
   "source": [
    "O controlador é dado pela fórmula:\n",
    "\n",
    "$$ C(z) = \\frac{K*Nc(z)}{(z − 1)Dc(z)} ;$$\n",
    "\n",
    "Fazendo $Nc(z) = Dg(z)$ e escolhendo $Dc(z) = z − bo$\n",
    "\n",
    "$$ K*Ng(z)+(z−1)(z−bo) = K(0.1431)+(z−1)(z−bo) = z^2 ; $$\n",
    "\n",
    "Para igualdade, temos que:\n",
    "\n",
    "\\begin{equation}\n",
    "  \\left\\{ \\begin{aligned}\n",
    "     \\ -bo-1=0 \\\\\n",
    "       0.1431*k+bo=0\\\\\n",
    "  \\end{aligned} \\right.\n",
    "\\end{equation}\n",
    "\n",
    "bo = -1 e k = 6.988\n",
    "\n",
    "Então o controlador deadbeat fica:\n",
    "\n",
    "$$ C(z) = \\frac{6.988(z - 0.8752)}{(z − 1)(z + 1)} ;$$"
   ]
  },
  {
   "cell_type": "code",
   "execution_count": 104,
   "metadata": {},
   "outputs": [
    {
     "name": "stdout",
     "output_type": "stream",
     "text": [
      "\r\n",
      "Transfer function 'fdeadbeat_fechada' from input 'u1' to output ...\r\n",
      "\r\n",
      "            0.9996 z - 0.8749      \r\n",
      " y1:  -----------------------------\r\n",
      "      z^3 - 0.8752 z^2 - z + 0.8752\r\n",
      "\r\n",
      "Sampling time: 0.08 s\r\n",
      "Discrete-time model.\r\n"
     ]
    }
   ],
   "source": [
    "k = 1.146;\n",
    "tau=0.60;\n",
    "f_tf = k/(s*tau+1);\n",
    "FdigitalMalhaAberta = c2d(f_tf,0.08,'zoh');\n",
    "z = tf ('z', 0.08);\n",
    "controladorDeadbeat = 6.988*(z - 0.8752)/((z-1)*(z+1));\n",
    "fdeadbeat_fechada = FdigitalMalhaAberta*controladorDeadbeat"
   ]
  },
  {
   "cell_type": "markdown",
   "metadata": {},
   "source": [
    "## Fase 5 - Implementação dos Controladores"
   ]
  },
  {
   "cell_type": "markdown",
   "metadata": {},
   "source": [
    "### Equação PID recursiva"
   ]
  },
  {
   "cell_type": "markdown",
   "metadata": {},
   "source": [
    "$$ y[k]*(y[k] -0.2064*y[k-1] + 0.004285*y[k-2]) = u[k]*(1.069*y[k-1] - 0.2727*y[k-2] + 0.001309*y[k-3]) $$"
   ]
  },
  {
   "cell_type": "markdown",
   "metadata": {},
   "source": [
    "### Equação Deadbeat recursiva\n",
    "\n",
    "$$ y[k]*(y[k] - 0.8752*y[k] - y[k-2] + 0.8752*y[k-3]) = u[k]*(0.9996*y[k-2]- 0.8749*y[k-3]) $$"
   ]
  },
  {
   "cell_type": "markdown",
   "metadata": {},
   "source": [
    "### Passos para aplicação\n",
    "\n",
    "1. Obter valores do sensor;\n",
    "2. Calcular o sinal de controle u[k];\n",
    "3. Enviar o sinal de controle u[k];\n",
    "4. Esperar o delay a cada intereção.\n",
    "\n",
    "Abaixo é ilustrado o plot serial do arduino, onde foi aplicado o controlador PID no motor. Foi setado para que se estabiliza-se em 375 RPM, que não ocorre porém tende a se manter perto do valor projetado."
   ]
  },
  {
   "cell_type": "markdown",
   "metadata": {},
   "source": [
    "![](plotSerial.png)"
   ]
  },
  {
   "cell_type": "markdown",
   "metadata": {},
   "source": [
    "### Conclusão"
   ]
  },
  {
   "cell_type": "markdown",
   "metadata": {},
   "source": [
    "A estrutura de um trabalho de controle quando abordado pelo lado prático é dependente em grande parte da disponibilidade de equipamentos e recursos apropriados. O propósito deste trabalho é de empregar o conhecimento em controle para controlar um motor DC. O trabalho teve seu segmento com as simulações, cálculos e por fim o projeto do controlador no Arduino, que não teve os resultados esperados. No caso do controlador PID por exemplo o valor não estabiliza, isso ocorre devido a falta de precisão dos equipamentos a cada iteração e possivelmente na abordagem dos parametros escolhidos."
   ]
  }
 ],
 "metadata": {
  "kernelspec": {
   "display_name": "Octave",
   "language": "octave",
   "name": "octave"
  },
  "language_info": {
   "file_extension": ".m",
   "help_links": [
    {
     "text": "GNU Octave",
     "url": "https://www.gnu.org/software/octave/support.html"
    },
    {
     "text": "Octave Kernel",
     "url": "https://github.com/Calysto/octave_kernel"
    },
    {
     "text": "MetaKernel Magics",
     "url": "https://metakernel.readthedocs.io/en/latest/source/README.html"
    }
   ],
   "mimetype": "text/x-octave",
   "name": "octave",
   "version": "5.2.0"
  }
 },
 "nbformat": 4,
 "nbformat_minor": 4
}
